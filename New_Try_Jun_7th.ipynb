{
 "cells": [
  {
   "cell_type": "code",
   "execution_count": 1,
   "id": "731324c7",
   "metadata": {},
   "outputs": [],
   "source": [
    "import os"
   ]
  },
  {
   "cell_type": "code",
   "execution_count": 2,
   "id": "e8874517",
   "metadata": {},
   "outputs": [],
   "source": [
    "from pathlib import Path\n",
    "import os\n",
    "import glob"
   ]
  },
  {
   "cell_type": "code",
   "execution_count": 3,
   "id": "d4cf108c",
   "metadata": {},
   "outputs": [],
   "source": [
    "import io\n",
    "import nltk\n",
    "import re\n",
    "from gensim.corpora.dictionary import Dictionary\n",
    "from nltk.tokenize import word_tokenize\n",
    "from nltk.tokenize import sent_tokenize\n",
    "from nltk.stem import WordNetLemmatizer\n",
    "from nltk.corpus import stopwords\n",
    "from collections import Counter\n",
    "from gensim.parsing.preprocessing import preprocess_documents\n",
    "import random\n",
    "from nltk.corpus import stopwords\n",
    "from nltk.tokenize import regexp_tokenize\n",
    "from matplotlib import pyplot as plt\n",
    "import pprint\n",
    "from gensim import corpora\n",
    "from gensim.utils import simple_preprocess\n",
    "from gensim.corpora.dictionary import Dictionary\n",
    "from nltk.tokenize import word_tokenize "
   ]
  },
  {
   "cell_type": "code",
   "execution_count": 4,
   "id": "412415b1",
   "metadata": {},
   "outputs": [
    {
     "name": "stdout",
     "output_type": "stream",
     "text": [
      "/Users/hernanadasme/Projects/text_analysis_folktales\n"
     ]
    }
   ],
   "source": [
    "HOME = os.getcwd()\n",
    "print(HOME)"
   ]
  },
  {
   "cell_type": "code",
   "execution_count": 58,
   "id": "de8535b5",
   "metadata": {},
   "outputs": [],
   "source": [
    "#os.listdir()"
   ]
  },
  {
   "cell_type": "code",
   "execution_count": 5,
   "id": "1b0747cd",
   "metadata": {},
   "outputs": [],
   "source": [
    "texts_dir = HOME + \"/corpora/corpus/\""
   ]
  },
  {
   "cell_type": "code",
   "execution_count": 6,
   "id": "2086eb9b",
   "metadata": {},
   "outputs": [
    {
     "name": "stdout",
     "output_type": "stream",
     "text": [
      "/Users/hernanadasme/Projects/text_analysis_folktales/corpora/corpus/\n"
     ]
    }
   ],
   "source": [
    "print(texts_dir)"
   ]
  },
  {
   "cell_type": "code",
   "execution_count": 7,
   "id": "04cc2e11",
   "metadata": {},
   "outputs": [
    {
     "data": {
      "text/plain": [
       "['el_lobo_salamar_o_cuerpo_sin_alma_vol1_5.txt',\n",
       " '.DS_Store',\n",
       " 'el_cuerpo_sin_alma_vol1_.6txt.txt',\n",
       " 'don_juan_arcarpe_vol1_4.txt',\n",
       " 'el_cuerpo_sin_alma_2_vol1_7.txt',\n",
       " 'las_tres_princesas_robadas_vol1_3.txt']"
      ]
     },
     "execution_count": 7,
     "metadata": {},
     "output_type": "execute_result"
    }
   ],
   "source": [
    "os.listdir(texts_dir)"
   ]
  },
  {
   "cell_type": "code",
   "execution_count": null,
   "id": "7665682f",
   "metadata": {},
   "outputs": [],
   "source": [
    ">**Iterating over a directory and openning the files**\n",
    "Here I am trying to iterate over a directory, open each file and append each file into a list called 'corpus'. The list should contain 5 string elements. It kind of works"
   ]
  },
  {
   "cell_type": "code",
   "execution_count": 8,
   "id": "75edd14b",
   "metadata": {},
   "outputs": [
    {
     "name": "stdout",
     "output_type": "stream",
     "text": [
      "5\n",
      "<class 'list'>\n"
     ]
    }
   ],
   "source": [
    "corpus = []\n",
    "\n",
    "file_list = glob.glob(\"/Users/hernanadasme/Projects/text_analysis_folktales/corpora/corpus/*.txt\")\n",
    "for file in file_list:\n",
    "    with open(file,'r', encoding='utf-8-sig') as file_input:\n",
    "           corpus.append(file_input.read())\n",
    "print(len(corpus))\n",
    "print(type(corpus))"
   ]
  },
  {
   "cell_type": "code",
   "execution_count": 9,
   "id": "b9668374",
   "metadata": {},
   "outputs": [
    {
     "name": "stdout",
     "output_type": "stream",
     "text": [
      "<class 'str'>\n",
      "14227\n",
      "<class 'str'>\n",
      "2781\n",
      "<class 'str'>\n",
      "7675\n",
      "<class 'str'>\n",
      "13579\n",
      "<class 'str'>\n",
      "24700\n"
     ]
    }
   ],
   "source": [
    "#iterating over the list corpus\n",
    "for x in range(len(corpus)):\n",
    "    print(type(corpus[x]))\n",
    "    print(len(corpus[x]))"
   ]
  },
  {
   "cell_type": "code",
   "execution_count": 74,
   "id": "c1dab7cc",
   "metadata": {},
   "outputs": [],
   "source": [
    "#for filename in os.listdir('/Users/hernanadasme/Projects/text_analysis_folktales'):\n",
    "    #if filename.endswith('.txt'):\n",
    "        #with open(filename, encoding ='utf-8-sig') as f:\n",
    "            #text = f.readlines()\n",
    "            #print(text)''''''"
   ]
  },
  {
   "cell_type": "code",
   "execution_count": 118,
   "id": "5aa4dc27",
   "metadata": {},
   "outputs": [],
   "source": [
    "tempo_corpus = []\n",
    "corpus_list = []\n",
    "\n",
    "for x in corpus:\n",
    "    x = str.lower(x)\n",
    "    x = nltk.word_tokenize(x)\n",
    "    x = _cleaning(x)\n",
    "    tempo_corpus.append(x)\n",
    "    corpus_list.append(x)"
   ]
  },
  {
   "cell_type": "code",
   "execution_count": 119,
   "id": "803dd621",
   "metadata": {},
   "outputs": [
    {
     "name": "stdout",
     "output_type": "stream",
     "text": [
      "<class 'list'>\n"
     ]
    }
   ],
   "source": [
    "print(type(corpus_list))"
   ]
  },
  {
   "cell_type": "code",
   "execution_count": 127,
   "id": "575d9e6c",
   "metadata": {},
   "outputs": [
    {
     "name": "stdout",
     "output_type": "stream",
     "text": [
      "['esto', 'eran', 'treh', 'hermanoh', 'hombre', 'que', 'asistian', 'con', 'una', 'herman', 'jer', 'a', 'costa', 'del', 'mar', 'gutrfanoh', 'elloh', 'estos', 'sc', 'entretenian', 'en', 'i', 'cazar', 'caa', 'uno', 'con', 'su', 'escopeta', 'se', 'manejaban', 'salian', 'al', 'campo', 'tc', 'dia', 'siempre', 'le', 'dejaban', 'encargo', 'a', 'la', 'sefiorita', 'hermana', 'que', 'al', 'lao', 'del', 'mar', 'habia', 'una', 'ventana', 'que', 'no', 'la', 'abra', 'jamó', 'ni', 'por', 'un', 'pienso', 'esa', 'ventana', 'le', 'encargaban', 'que', 'no', 'abra', 'la', 'ventana', 'pero', 'no', 'le', 'decian', 'por', 'que', 'y', 'ella', 'como', 'obedecia', 'no', 'abria', 'la', 'ventana', 'ellos', 'traian', 'suh', 'ave', 'pero', 'menos', 'que', 'decirle', 'por', 'quc', 'le', 'hacian', 'ese', 'encargo', 'a', 'ella', 'y', 'un', 'dia', 'que', 'salieron', 'los', 'tres', 'por', 'iguales', 'juntos', 'porque', 'hay', 'veces', 'que', 'quedaba', 'con', 'uno', 'acompafidndose', 'y', 'ese', 'dia', 'la', 'dejaron', 'sola', 'y', 'dijo', 'ella', 'voy', 'a', 'ver', 'por', 'que', 'me', 'privan', 'estoh', 'hermano', 'voy', 'a', 'ver', 'esta', 'ventana', '”', 'y', 'tan', 'presto', 'no', 'la', 'abria', 'bien', 'cuando', 'se', 'la', 'llevaba', 'un', 'cuerpo', 'sin', 'alma', 'sin', 'haber', 'cómo', 'la', 'pelotiaron', 'de', 'la', 'ventana', 'y', 'era', 'ese', 'cuerpo', 'sin', 'alma', 'o', 'lobo', 'salamar', 'como', 'se', 'nombra', 'en', 'la', 'tarde', 'cuando', 'llegaron', 'ellos', 'lo', 'primero', 'que', 'ven', 'la', 'ventana', 'abierta', 'y', 'la', 'hermana', 'sin', 'noticia', 'al', 'momento', 'ijeron', 'ellos', 'ise', 'la', 'llevó', 'el', 'cuerpo', 'sin', 'alma', 'y', 'dijeron', 'que', 'haremos', 'tan', 'tarde', 'hasta', 'mafiana', 'dispondremo', 'y', 'el', 'hermano', 'mayor', 'propuso', 'él', 'de', 'salir', 'y', 'que', 'loh', 'otros', 'dos', 'queden', 'para', 'ver', 'de', 'que', 'manera', 'volvia', 'o', 'de', 'quc', 'manera', 'sucedia', 'en', 'el', 'viaje', 'y', 'propuso', 'el', 'hermano', 'de', 'plantar', 'un', 'arbolito', 'para', 'sefia', 'si', 'se', 'seca', 'ijo', 'a', 'loh', 'hermano', 'sefia', 'es', 'que', 'soy', 'muerto', 'y', 'si', 'prende', 'voy', 'andando', 'vivo', 'l', 'eso', 'leh', 'alvirtib', 'y', 'cuando', 'ya', 'se', 'jue', 'el', 'hermano', 'al', 'otro', 'dia', 'loh', 'hermano', 'se', 'fijaron', 'en', 'el', 'arbolito', 'ibien', 'marchito', 'jeron', 'mi', 'hermano', 'es', 'muerto', 'iquc', 'peligro', 'que', 'atajoh', 'habia', 'en', 'el', 'camino', 'que', 'cl', 'sepia', 'a', '‘', 'la', 'rumba', 'no', 'mal', 'se', 'ju', 'eron', 'a', 'la', 'dispard', 'si', 'sacaso', 'hallaban', 'alguna', 'demostración', 'de', 'algo', 'lo', 'que', 'sucedió', 'al', 'hermano', 'mayor', 'ese', 'que', 'salió', 'que', 'habia', 'un', 'mancarrón', 'muy', 'bravo', 'junto', 'con', 'una', 'mand', 'de', 'yegua', 'en', 'una', 'pampa', 'muy', 'linda', 'onde', 'cl', 'se', 'jue', 'asomando', 'poco', 'a', 'poco', 'cuando', 'él', 'estuvo', 'cerca', 'de', 'la', 'mand', 'de', 'yegua', 'el', 'mancarrón', 'lo', 've', 'asi', 'que', 'el', 'mancarrón', 'se', 'dirigió', 'derechito', 'onde', 'el', 'con', 'toa', 'velocif', 'y', 'tal', 'iue', 'el', 'topbn', 'que', 'le', 'dio', 'que', 'lo', 'mató', 'con', 'caballo', 'y', 'too', 'al', 'pobre', 'joven', 'asi', 'que', 'el', 'quedó', 'muerto', 'no', 'mah', 'ai', 'mafiana', 'salgo', 'ijo', 'el', 'hermano', 'del', 'medio', 'ya', 'él', 'se', 'jue', 'rumbiando', 'los', 'rastro', 'se', 'jue', 'por', 'ai', 'mismo', 'asi', 'que', 'la', 'misma', 'cosa', 'le', 'sucedió', 'con', 'el', 'mancarrón', 'cuando', 'lo', 'vio', 'le', 'salió', 'al', 'encuentro', 'lo', 'asesinb', 'casi', 'junto', 'con', 'el', 'otro', 'jgualmente', 'habia', 'dejao', 'un', 'arbolito', 'de', 'seña', 'asi', 'que', 'ijo', 'el', 'menor', 'o', 'ahora', 'estoy', 'solo', 'y', 'mih', 'hermanos', 'muerto', 'ya', 'sabia', 'que', 'el', 'arbolito', 'marchito', 'eran', 'muerto', 'elloh', 'asi', 'que', 'salih', 'el', 'hermano', 'menor', 'al', 'otro', 'dia', 'siguendo', 'las', 'guellas', 'de', 'loh', 'hermano', 'y', 'jae', 'como', 'era', 'muy', 'buen', 'punto', 'para', 'tirar', 'le', 'dio', 'un', 'balazo', 'en', 'toda', 'la', 'frente', 'al', 'mancarrdn', 'asi', 'que', 'lo', 'voltió', 'le', 'puso', 'una', 'bala', 'a', 'su', 'escopeta', 'es', 'que', 'loh', 'otro', 'le', 'erraron', 'los', 'tiro', 'el', 'mancarrón', 'tenia', 'tusa', 'de', 'oro', 'y', 'cola', 'de', 'oro', 'de', 'encantos', 'que', 'se', 'presentaban', 'por', 'ai', 'con', 'animale', 'asi', 'que', 'él', 'le', 'sacó', 'los', 'crines', 'y', 'se', 'los', 'puso', 'a', 'los', 'corrione', 'de', 'su', 'montura', 'sepultó', 'a', 'suh', 'hermano', 'anduvo', 'más', 'lejo', 'alejadose', 'alejindose', 'qu', 'iba', 'el', 'a', 'lo', 'mucho', 'que', 'habia', 'andao', 'devisó', 'el', 'un', 'gran', 'pifio', 'de', 'animale', 'de', 'too', 'lo', 'que', 'dioh', 'ha', 'creao', 'el', 'dljo', 'iahora', 'si', 'me', 'escape', 'di', 'una', 'de', 'csta', 'no', 'me', 'escapo', '”', 'habian', 'lione', 'tigre', 'elefante', 'cuanto', 'animal', 'hay', 'carnivoro', 'cuando', 'iba', 'pasando', 'ya', 'del', 'piño', 'de', 'animale', 'nada', 'le', 'sucedió', 'de', 'repente', 'un', 'ave', 'volando', 'di', 'atrás', 'de', 'él', 'se', 'le', 'puso', 'por', 'delante', 'un', 'traro', 'le', 'habló', 'oiga', 'joven', 'le', 'dijo', 'me', 'manda', 'mi', 'rey', 'acaso', 'puede', 'repartirnoh', 'ma', 're', 'que', 'no', 'hallamos', 'cómo', 'repartirno', 'estaban', 'con', 'un', 'animal', 'muerto', 'ai', 'entonce', 'él', 'volvib', 'al', 'llamao', 'que', 'le', 'hacian', 'loh', 'animaleh', 'eso', 'asi', 'que', 'cuando', 'llegó', 'ai', 'saludó', 'al', 'jefe', 'que', 'era', 'el', 'lión', 'es', 'que', 'le', 'ijo', 'mi', 'buen', 'joven', 'yo', 'lo', 'llamc', 'para', 'que', 'nos', 'reparta', 'una', 're', 'que', 'tenemo', 'aqui', 'que', 'seremos', 'su', 'agradecio', 'que', 'nos', 'conforme', 'a', 'too', 'asi', 'que', 'el', 'joven', 'comenzó', 'a', 'repartir', 'con', 'su', 'esp', 'llevaba', 'de', 'defensa', 'una', 'espi', 'la', 'presa', 'que', 'le', 'prefirió', 'al', 'libn', 'jue', 'el', 'pecho', 'corno', 'sabia', 'que', 'eso', 'le', 'gustaba', 'y', 'asi', 'comenzó', 'a', 'repartirle', 'a', 'too', 'sus', 'peacito', 'tantiando', 'seglin', 'el', 'tamaño', 'asi les', 'daba', 'cuando', 'al', 'hltimo', 'le', 'iba', 'queando', 'un', 'peazo', 'de', 'pecho', 'gordo', 'que', 'suelen', 'tener', 'loh', 'animale', 'y', 'la', 'cabeza', 'se', 'fijaba', 'cl', 'quc', 'animal', 'le', 'queaba', 'sin', 'repartirle', 'cuando', 'divisó', 'un', 'aguila', 'que', 's', 'iba', 'y', 'se', 'venia', 'de', 'flaca', 'la', 'miró', 'él', 'y', 'le', 'ijo', 'aguilita', 'aqui', 'está', 'tu', 'parte', 'la', 'aguilita', 'lo', 'miró', 'al', 'tiro', 'y', 'comenzó', 'a', 'recibirle', 'el', 'peazo', 'de', 'pecho', 'gordo', 'y', 'se', 'lo', 'comenzó', 'a', 'comer', 'asi', 'que', 'le', 'queaba', 'la', 'cabeza', 'pend', '‘', '‘', 'jae', 'animal', 'me', 'comer', 'la', 'cabeza', '”', 'cuando', 've', 'por', 'sus', 'pie', 'un', 'grimillón', 'de', 'hormigas', 'saliendo', 'de', 'aqui', 'pa', 'allja', 'bah', '”', 'dijo', 'aqui', 'tengo', '”', 'pegó', 'un', 'espaazo', 'a', 'la', 'cabeza', 'sacó', 'los', 'seso', 'y', 'se', 'los', 'repartió', 'a', 'las', 'hormiguita', 'que', 'se', 'enterraban', 'en', 'los', 'seso', 'les', 'preguntó', 'estarin', 'conforme', 'muy', 'conforme', 'le', 'dijo', 'el', 'mn', 'mi', 'buen', 'joven', 'muchas', 'gracia', 'y', 'se', 'despidib', 'de', 'ellos', 'y', 'se', 'cabalgó', 'su', 'caballo', 'y', 'siguió', 'marchando', 'cuando', 'ven', 'que', 'habia', 'andao', 'un', 'poco', 'le', 'preguntó', 'el', 'lión', 'a', 'su', 'gente', 'están', 'toos', 'conforme', 'l', 'tooh', 'es', 'que', 'estaban', 'muy', 'alegres', 'con', 'la', 'repartia', 'del', 'joven', 'entonce', 'iquc', 'mal', 'agradecio', 'que', 'somos', 'nosotro', 'anda', 'atajar', 'es', 'que', 'le', 'ijo', 'corrió', 'la', 'zorra', 'que', 'vuelva', 'mi', 'buen', 'joven', 'ahora', 'ijo', 'el', 'estos', 'no', 'se', 'han', 'llenao', 'ahora', 'me', 'van', 'a', 'comer', 'mps', 'de', 'fuerza', 'que', 'de', 'valor', 'volvió', 'es', 'que', 'uó', 'se', 'le', 'ofrece', 'mi', 'rey', 'es', 'que', 'le', 'ijo', 'al', 'lión', 'iay', 'mi', 'buen', 'joven', 'somos', 'mal', 'agradecio', 'nosotro', 'desmdntese', 'no', 'tenga', 'miedo', 'es', 'una', 'virtó', 'la', 'que', 'le', 'vamoh', 'a', 'dar', 'para', 'que', 'si', 'se', 'encuentra', 'en', 'un', 'apuro', 'tenga', 'defensa', 'se', 'vuelva', 'en', 'un', 'animal', 'feróh', 'igual', 'como', 'el', 'que', 'quera', 'ofender', 'a', 'él', 'ordenó', 'el', 'lión', 'a', 'la', 'zorra', 'anda', 'rosalia', 'que', 'vuelva', 'otra', 've', 'tr', 'se', 'desmontó', 'le', 'dijeron', 'ponga', 'su', 'mano', 'lo', 'fueron', 'escupiendo', 'tooh', 'unos', 'lo', 'lambian', 'y', 'otros', 'lo', 'escupian', 'y', 'asi', 'con', 'que', 'diga', 'idioh', 'y', 'un', 'lib', 'se', 'vuelve', 'lión', 'asi', 'que', 'ahora', 'si', 'que', 'se', 'jue', 'contento', 'él', 'se', 'despidió', 'de', 'ello', 'y', 'siguió', 'su', 'marcha', 'sin', 'saber', 'pa', 'ónde', 'iba', 'mps', 'que', 'a', 'la', 'dispari', 'jamih', 'habia', 'pasao', 'él', 'por', 'esos', 'parques', 'de', 'montafia', 'y', 'tanto', 'que', 'llegó', 'él', 'a', 'un', 'prao', 'asi', 'y', 'se', 'le', 'puso', 'un', 'cerro', 'al', 'frente', 'no', 'hallaba', 'pa', 'ónde', 'mirar', 'trancao', 'pa', 'onde', 'cl', 'iba', 'sin', 'saber', 'cómo', 'iba', 'a', 'subir', 'por', 'esos', 'cerro', 'asi', 'que', 'cuando', 'vio', 'que', 'estaba', 'en', 'ese', 'peligro', 'es', 'que', 'ijo', 'voy', 'a', 'desensillar', 'mi', 'caballo', 'mejor', 'con', 'las', 'virtges', 'que', 'llevaba', 'no', 'quero', 'mph', '”', 'es', 'que', 'ijo', 'entonce', 'a', 'lo', 'que', 'soltb', 'su', 'caballo', 'es', 'que', 'ijo', 'uc', 'ave', 'seri', 'mis', 'sufria', 'pa', 'encubrarme', 'a', 'ese', 'cerro', '”', 'es', 'que', 'ijo', 'dejó', 'su', 'montura', 'en', 'unos', 'arbole', 'la', 'arregla', 'pa', 'no', 'verla', 'milh', 'el', 'caballo', 'queó', 'en', 'buen', 'pasto', 'comienldo', 'y', 'cuando', 'ya', 'estuvo', 'listo', 'es', 'que', 'ijo', 'dioh', 'y', 'un', 'águila', 'mph', 'encumbraora', 'pa', 'subirme', 'en', 'este', 'cerro', 'y', 'comenzó', 'a', 'encumbrarse', 'ocupó', 'medio', 'dia', 'en', 'subirse', 'arriba', 'a', 'la', 'cumbre', 'a', 'lo', 'que', 'ya', 'se', 'paró', 'en', 'la', 'cumbre', 'del', 'cerro', 'miró', 'hacia', 'el', 'otro', 'lao', 'onde', 'cl', 'iba', 'en', 'dirección', 'andando', 'parece', 'que', 'divisaba', 'a', 'modo', 'de', 'palacio', 'asi', 'veida', 'como', 'blanquiar', 'y', 'se', 'descolgb', 'pa', 'ese', 'lao', 'onde', 'cl', 'iba', 'marchando', 'cuando', 'llegó', 'al', 'patio', 'onde', 'veida', 'unos', 'irbole', 'frutale', 'que', 'habian', 'tupio', 'asi', 'jue', 'como', 'que', 'se', 'enramb', 'a', 'mirar', 'quc', 'movimientoh', 'habian', 'cuando', 'habia', 'estao', 'ya', 'buen', 'rato', 'divisa', 'su', 'hermana', 'que', 'salió', 'a', 'pasiarse', 'en', 'un', 'balcbn', 'en', 'una', 'especie', 'de', 'correorcito', 'que', 'tenia', 'la', 'casa', 'ibendito', 'sea', 'dioh', '”', 'es', 'que', 'ijo', 'aqui', 'esti', 'mi', 'hermana', ']', 'mire', 'cómo', 'es', 'la', 'vidat', '”', 'asi', 'que', 'él', 'se', 'dio', 'a', 'ver', 'no', 'se', 'puso', 'tan', 'enramao', 'como', 'podia', 'estar', 'que', 'lo', 'vea', 'la', 'hermana', 'a', 'ver', 'si', 'podia', 'hablar', 'con', 'ella', 'y', 'de', 'repente', 'l', 'o', 'vio', 'la', 'hermana', 'y', 'le', 'ijo', 'iay', 'aguilita', 'que', 'viento', 'te', 'ha', 'echao', 'por', 'aqui', 'cuando', 'aqui', 'ni', 'moscah', 'hay', 'y', 'tó', 'venih', 'a', 'presentarte', 'a', 'la', 'vista', 'mia', 'que', 'virtó', 'tendrih', 'si', 'tiene', 'h', 'una', 'virtd', 'habla', 'conmigo', 'es', 'que', 'le', 'ijo', 'bijate', 'se', 'bajó', 'el', 'aguilita', 'y', 'se', 'volvió', 'el', 'hermano', 'a', 'la', 'vista', 'de', 'ella', 'iay', 'que', 'alegria', 'mps', 'grande', 'que', 'tuvieron', 'asi', 'que', 'le', 'preguntó', 'él', 'luego', 'de', 'que', 'modo', 'estaba', 'ella', 'ai', 'qucn', 'la', 'tenia', 'es', 'que', 'ijo', 'ella', 'a', 'mi', 'me', 'tiene', 'un', 'gigante', 'que', 'no', 'tiene', 'alma', 'no', 'tienen', 'coraje', 'que', 'lo', 'puedan', 'matar', 'a', 'el', 'este', 'cuando', 'venga', 'va', 'a', 'venir', 'un', 'retumbo', 'muy', 'grande', 'como', 'temblor', 'y', 'voh', 'ónde', 'te', 'podis', 'esconder', 'cuando', 'venga', 'que', 'el', 'olfatea', 'la', 'gente', 'yo', 'me', 'voy', 'a', 'esconder', 'dentro', 'de', 'tu', 'cabeza', 'hecho', 'una', 'hormiguita', 'y', 'tó', 'le', 'vah', 'a', 'averiguar', 'cómo', 'es', 'la', 'vida', 'que', 'tiene', 'el', 'ella', 'es', 'que', 'le', 'ijo', 'iya', 'est', 'asi', 'lo', 'hare', 'pero', 'óste', 'va', 'estar', 'maliciando', 'es', 'que', 'le', 'ijo', 'cuando', 'de', 'repente', 'siente', 'un', 'rumor', 'que', 'viene', 'asi', 'como', 'ijo', 'ella', 'ai', 'viene', 'ijo', 'ella', 'el', 'se', 'volvió', 'una', 'hormiguita', 'y', 'se', 'le', 'metió', 'en', 'el', 'pelo', 'no', 'te', 'aflijas', 'mja', 'por', 'mi', 'aqui', 'voy', 'a', 'estar', 'sosegaita', 'es', 'que', 'le', 'ijo', 'asi', 'que', 'cuando', 'llegó', 'el', 'gigante', 'icarne', 'humana', 'guele', 'aqui', 'es', 'que', 'ijo', 'ilo', 'que', 'estph', 'hablando', 'le', 'ijo', 'ella', 'ni', 'las', 'moscas', 'llegan', 'aqui', 'iay', 'ingrata', 'le', 'ijo', 'el', 'no', 'vaigah', 'hacer', 'traición', 'imalicioso', 'mejor', 'es', 'que', 'le', 'ijo', 'ella', 'cuentame', 'de', 'tu', 'vida', 'yo', 'entonce', 'es', 'que', 'le', 'ijo', 'mira', 'te', 'voy', 'a', 'decir', 'yo', 'cómo', 'es', 'mi', 'vida', 'es', 'que', 'ijo', 'alli', 'en', 'aquella', 'ladna', 'es', 'que', 'le', 'ijo', 'ai', 'asiste', 'un', 'tigre', 'y', 'dentro', 'del', 'tigre', 'hay', 'un', 'lib', 'y', 'dentro', 'del', 'lión', 'hay', 'una', 'zorra', 'y', 'dentro', 'de', 'la', 'zorra', 'hay', 'una', 'paloma', 'y', 'dentro', 'de', 'la', 'paloma', 'hay', 'un', 'guevo', 'y', 'esa', 'eh', 'mi', 'alma', 'mientras', 'que', 'no', 'maten', 'tooh', 'eso', 'no', 'muero', 'es', 'que', 'le', 'ijo', 'cuando', 'ya', 'le', 'llegó', 'la', 'hora', 'que', 'se', 'jue', 'el', 'gigante', 'salió', 'él', 'del', 'pelo', 'y', 'hablaron', 'no', 'es', 'preciso', 'que', 'me', 'cuenteh', 'ya', 'oi', 'mejor', 'que', 'tó', 'bueno', 'es', 'que', 'le', 'ijo', 'si', 'sabeh', 'mira', 'es', 'que', 'le', 'ijo', 'ese', 'tigre', 'est', 'cebao', 'en', 'lah', 'oveja', 'de', 'los', 'la', 'hormiga', 'imire', 'lo', 'que', 'se', 'le', 'puso', 'quero', 'ayudarte', 'a', 'guerriar', 'con', 'los', 'animos', 'que', 'tengo', 'vecino', 'yo', 'voy', 'a', 'ir', 'de', 'pastor', 'a', 'alquilarme', 'a', 'ver', 'si', 'me', 'reciben', 'asi', 'que', 'se', 'despidió', 'de', 'la', 'hermana', 'es', 'que', 'le', 'ijo', 'mira', 'si', 'yo', 'pido', 'una', 'cosa', 'sobre', 'mi', 'virtg', 'a', 'ver', 'si', 'se', 'me', 'concede', 'porque', 'yo', 'voy', 'a', 'guerriar', 'con', 'esoh', 'animale', 'me', 'voy', 'a', 'trasportar', 'en', 'tigre', 'en', 'lión', 'en', 'zorra', 'eh', 'peuco', 'le', 'alvirtió', 'asi', 'que', 'llegó', 'a', 'la', 'casa', 'del', 'dueño', 'del', 'ganao', 'el', 'hombre', 'es', 'que', 'le', 'ijo', 'ruenoh', 'diah', 'joven', 'cquc', 'busca', 'ustp', 'yo', 'ando', 'buscando', 'trabajo', 'que', 'me', 'den', 'pa', 'ganar', 'mi', 'vida', 'lo', 'recibo', 'jcaramba', 'le', 'ijo', 'poco', 'trabajo', 'tengo', 'te', 'voy', 'a', 'recibir', 'para', 'ovejero', 'que', 'me', 'lah', 'estó', 'matando', 'un', 'tigre', 'que', 'sale', 'de', 'esa', 'lalina', 'vez', 'que', 'van', 'aw', 'zas', 'que', 'sale', 'el', 'tigre', 'y', 'se', 'agarra', 'una', 'me', 'está', 'acabando', 'el', 'ganao', 'eso', 'es', 'lo', 'que', 'quero', 'ijo', 'pi', 'dentro', 'de', 'su', 'corazón', 'es', 'que', 'le', 'ijo', 'el', 'patrón', 'te', 'voy', 'a', 'alquilar', 'yo', 'pero', 'con', 'una', 'condición', 'te', 'voy', 'a', 'pagar', 'un', 'almfi', 'de', 'plata', 'por', 'el', 'afio', 'y', 'no', 'me', 'vah', 'a', 'dejar', 'un', 'punto', 'a', 'la', 'orilla', 'de', 'la', 'lafina', 'lah', 'oveja', 'i', 'entonce', 'se', 'hizo', 'cargo', 'del', 'ganado', 'el', 'joven', 'dejemelo', 'no', 'mih', 'a', 'mi', 'cuidao', 'patrón', 'si', 'yo', 'pierdo', 'una', 'oveja', 'si', 'jcaramba', 'ijo', 'el', 'patrón', 'sos', 'valiente', 'asi', 'que', 'cuando', 'ya', 'se', 'hizo', 'cargo', 'no', 'mih', 'lo', 'primero', 'comenzó', 'a', 'munguiur', 'lah', 'oveja', 'a', 'la', 'lagna', 'lo', 'primero', 'que', 'salib', 'el', 'tigre', 'es', 'que', 'ijo', 'seri', 'porque', 'dioh', 'me', 'la', 'quere', 'quitar', 'no', 'porque', 'el', 'tigre', 'me', 'la', 'lleve', 'j ioh', 'y', 'un', 'tigre', 'mis', 'feróh', 'para', 'vencer', 'a', 'este', 'tigre', 'a', 'esah', 'hora', 'el', 'patrón', 'es', 'que', 'ijo', '+qup', 'va', 'a', 'hacer', 'pste', 'arriando', 'lah', 'oveja', 'y', 'cuando', 'vio', 'ese', 'aparato', 'quedó', 'asustao', 'cuando', 'vio', 'el', 'tigre', 'p', 'jesta', 'si', 'que', 'es', 'grande', 'es', 'que', 'ijo', 'asi', 'que', 'guerra', 'y', 'guerra', 'el', 'tigre', 'de', 'la', 'laóna', 'es', 'que', 'se', 'hallaba', 'dejemos', 'la', 'pelea', 'para', 'mafiana', 'encontrarno', 'y', 'l', 'le', 'ijo', 'lo', 'que', 'has', 'de', 'hacer', 'hoy', 'no', 'lo', 'dejes', 'para', 'mañana', 'y', 'siguió', 'hirihdolo', 'hasta', 'que', 'lo', 'mató', 'a', 'lo', 'que', 'ya', 'descansó', 'un', 'poco', 'ijo', 'como', 'ahota', 'este', 'lión', 'va', 'a', 'salir', 'bravo', 'o', 'la', 'de', 'no', 'saldri', 'arrancando', '”', 'asi', 'que', 'estaba', 'listo', 'para', 'volverse', 'lión', 'para', 'vencerlo', 'el', 'lión', 'estaba', 'dentro', 'de', 'la', 'panza', 'del', 'tigre', 'cuando', 'se', 'puso', 'a', 'abrir', 'la', 'panza', 'del', 'tigre', 'sale', 'el', 'lión', 'arrancando', 'pa', 'irse', 'a', 'la', 'lagna', 'a', 'defenderse', 'a', 'meterse', 'salió', 'hecho', 'tigre', 'también', 'i', 'vencio', 'es', 'que', 'ijo', 'a', 'esa', 'hora', 'es', 'que', 'llegó', 'el', 'gigante', 'onde', 'la', 'nñia', 'cayó', 'enfermo', 'a', 'la', 'ia', 'sin', 'poder', 'moverse', 'casi', 'onde', 'ya', 'tiene', 'su', 'alma', 'muerta', 'entonce', 'alcanzó', 'él', 'al', 'lión', 'y', 'se', 'pusieron', 'en', 'batalla', 'ya', 'luego', 'no', 'mrih', 'jue', 'venciendo', 'al', 'de', 'la', 'laóna', 'el', 'joven', 'diremos', 'que', 'ganq', 'y', 'lo', 'mail', 'lión', 'tambicn', 'entonce', 'es', 'que', 'ijo', 'aqui', 'hay', 'una', 'cosa', 'muy', 'peligrosa', 'por', 'la', 'zorra', 'nunca', 'una', 'zorra', 'corre', 'más', 'que', 'un', 'perro', 'galgo', 'voy', 'a', 'volver', 'un', 'galgo', 'pidiéndole', 'a', 'mi', 'dioh', 'un', 'galgo', 'mis', 'correor', 'mundo', 'para', 'alcanzar', 'la', 'zorra', '”', 'asi', 'que', 'abrib', 'al', 'libn', 'y', 'salic', 'la', 'a', 'y', 'zafa', 'pa', 'la', 'laóna', 'la', 'iorra', 'icaramba', 'que', 'se', 'paró', 'aflijio', 'a', 'la', 'entrri', 'del', 'agua', 'la', 'jue', 'alcanzar', 'asi', 'que', 'la', 'trozó', 'iun', 'perro', 'forzóo', 'y', 'bravo', 'pa', 'una', 'zorra', 'ai', 'no', 'batalló', 'mucho', 'tuvo', 'muerta', 'la', 'zorra', 'aqui', 'tengo', 'otro', 'peligro', 'de', 'esta', 'zorra', 'va', 'a', 'salir', 'una', 'paloma', 'la', 'más', 'volaora', 'que', 'va', 'haber', 'al', 'óltimo', '”', 'es', 'que', 'ijo', 'la abro', 'no', 'maih', '”', 'y', 'sale', 'una', 'paloma', 'dioh', 'y', 'un', 'halcón', 'más', 'volaor', 'del', 'mundo', 'pa', 'matar', 'esta', 'ave', 'asi', 'que', 'el', 'cuerpo', 'sin', 'alma', 'quejandose', 'all', 'al', 'dios', 'verdadero', 'y', 'endo', 'a', 'la', 'nñia', 'itraidora', 'ingrata', 'entonce', 'cuando', 'la', 'iba', 'alcanzando', 'por', 'aqui', 'por', 'allja', 'se', 'dirigió', 'aqui', 'por', 'allja', 'y', 'frente', 'a', 'la', 'laóna', 'es', 'qu', 'iba', 'cuando', 'suelta', 'el', 'guevo', 'la', 'paloma', 'y', 'el', 'halcón', 'ino', 'se', 'hizo', 'peucol', 'asi', 'que', 'al', 'guevo', 'se', 'lo', 'pelotió', 'en', 'el', 'airecito', 'y', 'dejb', 'la', 'paloma', 'esa', 'ya', 'no', 'hacia', 'na', 'el', 'guevo', 'era', 'lo', 'queria', 'él', 'el', 'guevo', 'lo', 'tuvo', 'guardao', 'iy', 'el', 'patrdn', 'viendo', 'tooh', 'esoh', 'aparato', 'jue', 'a', 'entregar', 'el', 'ganao', 'aqui', 'tiene', 'su', 'ganao', 'sin', 'faltarle', 'ninguna', 'oveja', 'yo', 'le', 'dijo', 'el', 'patrón', 'he', 'visto', 'toas', 'tus', 'magia', 'me', 'hah', 'hecho', 'un', 'beneficio', 'si', 'le', 'ijo', 'cl', 'eso', 'era', 'lo', 'que', 'queria', 'yo', 'cse', 'eh', 'el', 'que', 'me', 'tiene', 'mi', 'hermana', 'asi', 'que', 'ya', 'se', 'jue', 'pa', 'onde', 'la', 'hermana', 'se', 'despidieron', 'su', 'patrbn', 'le', 'dio', 'el', 'almó', 'de', 'plata', 'pero', 'iqut', 's', 'iba', 'a', 'interesar', 'cuando', 's', 'iba', 'a', 'quedar', 'con', 'las', 'riqueza', 'que', 'tenia', 'el', 'gigante', 'cajas', 'llenas', 'de', 'plata', 'y', 'oro', 'al', 'patrón', 'entonce', 'cuando', 'llegó', 'le', 'ijo', 'idónde', 'está', 'el', 'gigante', 'enfermo', 'ai', 'está', 'en', 'la', 'cama', 'es', 'que', 'le', 'ijo', 'se', 'dirigió', 'par', 'onde', 'él', 'y', 'el', 'gigante', 'cuando', 'lo', 'vio', 'iay', 'ingrata', 'e', 'que', 'le', 'ijo', 'entregame', 'el', 'alma', 'entrtgame', 'las', 'llaves', 'de', 'toas', 'las', 'riquezas', 'que', 'tieneh', 'asi', 'que', 'mandó', 'a', 'la', 'hermana', 'que', 'le', 'entregue', 'toas', 'las', 'ilave', 'que', 'él', 'queria', 'vivir', 'otxo', 'poco', 'comihdose', 'el', 'guevo', 'tenia', 'que', 'quedar', 'igual', 'es', 'que', 'bueno', 'es', 'que', 'le', 'ijo', 'el', 'te', 'voy', 'a', 'entregar', 'tu', 'alma', 'sacó', 'el', 'guevo', 'del', 'bolsillo', 'abre', 'tu', 'boca', 'el', 'gigante', 'es', 'que', 'ijo', 'me', 'lo', 'va', 'echar', 'me', 'lo', 'voy', 'a', 'tragar', 'entero', 'jue', 'y', 'le', 'pegó', 'en', 'la', 'frente', 'se', 'lo', 'hizo', 'peaicito', 'ai', 'quedó', 'muerto', 'sin', 'moverse', 'bueno', 'entonce', 'propusieron', 'loh', 'hermano', 'de', 'vivir', 'en', 'esas', 'riquezas', 'toa', 'la', 'vida', 'tenian', 'sirviente', 'tenian', 'mozo', 'tenian', 'de', 'too', 'el', 'jue', 'el', 'cabecilla', 'de', 'la', 'casa', 'y', 'pasaban', 'muy', 'buena', 'vida', 'muy', 'conforme', 'loh', 'hermano', 'sus', 'sirvientes', 'muy', 'alegre', 'los', 'mozoh', 'igual', 'era', 'un', 'gran', 'carifio', 'que', 'recibian', 'de', 'sus', 'patrone', 'la', 'gente', 'era', 'un', 'gran', 'regocijo', 'no', 'mrih', 'l', 'y', 'aqui', 'se', 'acabó', 'el', 'cuento', 'y', 'se', 'lo', 'llevó', 'el', 'viento'] ['era', 'un', 'viejito', 'con', 'la', 'seaora', 'no', 'mih', 'tenia', 'un', 'hijito', 'y', 'toos', 'los', 'dia', 'tenia', 'que', 'darle', 'pescao', 'al', 'rey', 'y', 'si', 'no', 'le', 'daba', 'no', 'le', 'daba', 'ninguna', 'cosa', 'y', 'un', 'dia', 'cuando', 'ya', 'salió', 'y', 'no', 'podia', 'encontrar', 'pescao', 'ya', 'se', 'puso', 'a', 'llorar', 'el', 'viejito', 'y', 'tanto', 'que', 'lloraba', 'que', 'le', 'hablaron', 'del', 'mar', 'uc', 'queris', 'viejito', 'cpor', 'que', 'llorrih', 'lloro', 'porque', 'no', 'encuentro', 'pescao', 'entonce', 'le', 'dijo', 'yo', 'te', 'doy', 'le', 'dijo', 'la', 'sirena', 'pero', 'si', 'acaso', 'me', 'da', 'lo', 'primero', 'que', 'encuentre', 'cuando', 'llegue', 'a', 'su', 'casa', 'le', 'dio', 'y', 'l', 'hizo', 'una', 'carga', 'de', 'pescao', 'y', 'se', 'jue', 'se', 'jue', 'pa', 'su', 'casa', 'cuando', 'iba', 'vio', 'un', 'bultito', 'y', 'era', 'el', 'nifiito', 'eso', 'tenia', 'que', 'darle', 'entonce', 'él', 'se', 'puso', 'a', 'llorar', 'icómo', 'le', 'voy', 'a', 'dar', 'mi', 'nifio', 'que', 'no', 'tengo', 'mrih', 'pero', 'pescao', 'le', 'dio', 'harto', 'pa', 'llevarle', 'al', 'rey', 'y', 'le', 'dio', 'harto', 'pescao', 'hasta', 'que', 'el', 'niiio', 'creciera', 'todos', 'los', 'dia', 'le', 'daba', 'pescao', 'cuando', 'el', 'niiiito', 'iba', 'a', 'la', 'escuela', 'y', 'crecia', 'a', 'palmo', 'lo', 'que', 'ya', 'jue', 'grande', 'mris', 'ilora ó', 'c', 'ba', 'el', 'viejito', 'cuando', 'ya', 'el', 'nifio', 'empezó', 'a', 'decirle', 'que', 'por', 'que', 'lloraba', 'le', 'dijo', 'el', 'nifio', 'por', 'que', 'llora', 'no', 'he', 'de', 'llorar', 'y', 'vamoh', 'a', 'tener', 'que', 'llevarte', 'aonde', 'la', 'sirena', 'no', 'se', 'le', 'de', 'na', 'papa', 'ya', 'él', 'taba', 'con', 'sus', 'padre', 'y', 'que', 'no', 'llorara', 'cuando', 'llegó', 'el', 'dia', 'que', 'le', 'hicieron', 'cocavi', 'pa', 'irse', 'y', 'le', 'arreglaron', 'su', 'caballito', 'y', 'plata', 'y', 'too', 'y', 'se', 'jue', 'bien', 'aperao', 'tanto', 'que', 'ya', 'habia', 'andao', 'encontró', 'una', 'zalagarda', 'que', 'serd', 'es', 'que', 'dijo', 'y', 'era', 'un', 'animal', 'que', 'estaba', 'muerto', 'y', 'se', 'lo', 'estaban', 'comiendo', 'lione', 'tigre', 'zorra', 'perro', 'paloma', 'halcón', 'y', 'too', 'pajarito', 'cuando', 'ya', 'habia', 'pasao', 'cuando', 'lo', 'jueron', 'a', 'ilamarlo', 'mandaron', 'l', 'hormiguita', 'no', 'la', 'vio', 'sentia', 'la', 'voh', 'y', 'no', 'sabia', 'ónde', 'era', 'entonce', 'una', 'paloma', 'y', 'la', 'paloma', 'la', 'vio', 'el', 'joven', 'golvió', 'onde', 'estaban', 'loh', 'animalito', 'y', 'lo', 'que', 'ya', 'llegó', 'le', 'dijeron', 'que', 'les', 'repartiera', 'porque', 'estaban', 'peliando', 'el', 'mis', 'grande', 'queria', 'mdh', 'ya', 'que', 'les', 'repartió', 'se', 'jue', 'mandaron', 'la', 'paloma', 'otra', 'veh', 'si', 'acaso', 'no', 'me', 'comieron', 'ahora', 'me', 'van', 'a', 'comer', 'golvió', 'le', 'dijo', 'lo', 'mandaron', 'golver', 'para', 'darle', 'caa', 'uno', 'una', 'virtk', 'toos', 'le', 'dieron', 'el', 'lib', 'la', 'paloma', 'el', 'tigre', 'la', 'zorra', 'y', 'el', 'halcón', 'ya', 'cuando', 'lo', 'mucho', 'que', 'habia', 'andao', 'se', 'puso', 'a', 'mirar', 'y', 've', 'un', 'irbol', 'dioh', 'y', 'un', 'halcón', 'mds', 'volaor', 'y', 'se', 'paró', 'en', 'el', 'arbol', 'ya', 'al', 'rey', 'le', 'quedaba', 'una', 'pura', 'niiia', 'le', 'habia', 'dao', 'dos', 'nifia', 'al', 'cuerpo', 'sin', 'alma', 'pa', 'que', 'le', 'ldiera', 'lefia', 'al', 'otro', 'dia', 'se', 'iba', 'la', 'otra', 'y', 'entonce', 'cuando', 'vieron', 'el', 'pajarito', 'que', 'estaba', 'parao', 'en', 'el', 'arbol', 'el', 'rey', 'se', 'enamoró', 'del', 'pajarito', 'y', 'la', 'nifia', 'tambicn', 'cuando', 'dijo', 'se', 'jue', 'tl', 'contento', 'tan', 'realto', 'en', 'el', 'palacio', 'del', 'rey', 'entonce', 'dijo', 'mire', 'el', 'guachito', 'lo', 'vamoh', 'a', 'llamar', 'pero', 'jue', 'primero', 'a', 'hablar', 'con', 'un', 'consejero', 'para', 'ver', 'cómo', 'podian', 'tomar', 'el', 'pajarito', 'entonce', 'el', 'consejero', 'le', 'dijo', 'que', 'le', 'tirara', 'un', 'balazo', 'lo', 'quero', 'tomar', 'vivo', 'ty', 'cómo', 'le', 'voy', 'a', 'tirar', 'un', 'balazo', 'despucs', 'jue', 'aonde', 'otro', 'consejero', 'le', 'dijo', 'que', 'voltiaran', 'el', 'irbol', 'mal', 'consejero', '&', 'ómo', 'voy', 'a', 'voltiar', 'el', 'drbol']\n"
     ]
    }
   ],
   "source": [
    "print(tempo_corpus[0], tempo_corpus[1])\n"
   ]
  },
  {
   "cell_type": "code",
   "execution_count": 117,
   "id": "687d2165",
   "metadata": {},
   "outputs": [],
   "source": [
    "def _cleaning(list_of_text):\n",
    "        '''\n",
    "        preliminary cleaning of the text\n",
    "        - remove new line character i.e. \\n or \\r\n",
    "        - remove tabs i.e. \\t\n",
    "        - remove extra spaces\n",
    "        '''\n",
    "        cleaned_list = []\n",
    "        for text in list_of_text:\n",
    "            # print(\"original:\", text)\n",
    "            text = text.replace('\\\\n', ' ')\n",
    "            text = text.replace('\\\\r', ' ')\n",
    "            text = text.replace('\\\\t', ' ')\n",
    "            text = text.replace('-', ' ')\n",
    "            text = text.replace('\"', ' ')\n",
    "            text = text.replace('?', ' ')\n",
    "            text = text.replace(', ', ' ')\n",
    "            text = text.replace(',', ' ')\n",
    "            text = text.replace('.', ' ')\n",
    "            text = text.replace(';', ' ')\n",
    "            text = text.replace(':', ' ')\n",
    "            text = text.replace('!', ' ')\n",
    "            text = text.replace(\"'\", ' ')\n",
    "            text = text.replace(\"@\", ' ')\n",
    "            text = text.replace(\"$\", ' ')\n",
    "            text = text.replace(\">\", ' ')\n",
    "            text = text.replace(\"<\", ' ')\n",
    "            text = text.replace('(', ' ')\n",
    "            text = text.replace('``', ' ')\n",
    "            text = text.replace('’', ' ')\n",
    "            text = text.replace('“', ' ')\n",
    "            pattern = re.compile(r'\\s+')\n",
    "            text = re.sub(pattern, ' ', text)\n",
    "            pattern_d = r\"\\d+\"\n",
    "            text = re.sub(pattern_d, ' ', text)\n",
    "            text = text.strip()\n",
    "            text = text.lower()\n",
    "            # check for empty strings\n",
    "            if text != '' and text is not None:\n",
    "                cleaned_list.append(text)\n",
    "\n",
    "        return cleaned_list"
   ]
  },
  {
   "cell_type": "code",
   "execution_count": null,
   "id": "57720cb6",
   "metadata": {},
   "outputs": [],
   "source": [
    "def tokenize(text):\n",
    "    tokens = word_tokenize(text)\n",
    "    tokens = _pre_clean(tokens)\n",
    "    tokens = [token for token in tokens if len(token) > 0]\n",
    "    tokens = [token for token in tokens if token not in stopwords]\n",
    "    #tokens = [get_lemma(token) for token in tokens]\n",
    "    return tokens"
   ]
  },
  {
   "cell_type": "code",
   "execution_count": 121,
   "id": "f9522ca4",
   "metadata": {},
   "outputs": [
    {
     "name": "stdout",
     "output_type": "stream",
     "text": [
      "2823\n",
      "552\n",
      "1526\n",
      "2707\n",
      "4919\n"
     ]
    }
   ],
   "source": [
    "for text in corpus_list:\n",
    "    print(len(text))"
   ]
  },
  {
   "cell_type": "code",
   "execution_count": 122,
   "id": "fffd7988",
   "metadata": {},
   "outputs": [],
   "source": [
    "no_stop_words = []\n",
    "for x in corpus_list:\n",
    "    x = [ y for y in x if y not in stopwords.words('spanish')]\n",
    "    no_stop_words.append(x)\n",
    "        "
   ]
  },
  {
   "cell_type": "code",
   "execution_count": 123,
   "id": "f6cf68fa",
   "metadata": {},
   "outputs": [
    {
     "name": "stdout",
     "output_type": "stream",
     "text": [
      "5\n"
     ]
    }
   ],
   "source": [
    "print(len(no_stop_words))"
   ]
  },
  {
   "cell_type": "code",
   "execution_count": 124,
   "id": "f2db4d7b",
   "metadata": {},
   "outputs": [
    {
     "name": "stdout",
     "output_type": "stream",
     "text": [
      "['treh', 'hermanoh', 'hombre', 'asistian', 'herman', 'jer', 'costa', 'mar', 'gutrfanoh', 'elloh', 'sc', 'entretenian', 'i', 'cazar', 'caa', 'escopeta', 'manejaban', 'salian', 'campo', 'tc', 'dia', 'siempre', 'dejaban', 'encargo', 'sefiorita', 'hermana', 'lao', 'mar', 'habia', 'ventana', 'abra', 'jamó', 'pienso', 'ventana', 'encargaban', 'abra', 'ventana', 'decian', 'obedecia', 'abria', 'ventana', 'traian', 'suh', 'ave', 'menos', 'decirle', 'quc', 'hacian', 'encargo', 'dia', 'salieron', 'tres', 'iguales', 'juntos', 'veces', 'quedaba', 'acompafidndose', 'dia', 'dejaron', 'sola', 'dijo', 'voy', 'ver', 'privan', 'estoh', 'hermano', 'voy', 'ver', 'ventana', '”', 'tan', 'presto', 'abria', 'bien', 'llevaba', 'cuerpo', 'alma', 'haber', 'cómo', 'pelotiaron', 'ventana', 'cuerpo', 'alma', 'lobo', 'salamar', 'nombra', 'tarde', 'llegaron', 'primero', 'ven', 'ventana', 'abierta', 'hermana', 'noticia', 'momento', 'ijeron', 'ise', 'llevó', 'cuerpo', 'alma', 'dijeron', 'haremos', 'tan', 'tarde', 'mafiana', 'dispondremo', 'hermano', 'mayor', 'propuso', 'salir', 'loh', 'dos', 'queden', 'ver', 'manera', 'volvia', 'quc', 'manera', 'sucedia', 'viaje', 'propuso', 'hermano', 'plantar', 'arbolito', 'sefia', 'si', 'seca', 'ijo', 'loh', 'hermano', 'sefia', 'muerto', 'si', 'prende', 'voy', 'andando', 'vivo', 'l', 'leh', 'alvirtib', 'jue', 'hermano', 'dia', 'loh', 'hermano', 'fijaron', 'arbolito', 'ibien', 'marchito', 'jeron', 'hermano', 'muerto', 'iquc', 'peligro', 'atajoh', 'habia', 'camino', 'cl', 'sepia', '‘', 'rumba', 'mal', 'ju', 'eron', 'dispard', 'si', 'sacaso', 'hallaban', 'alguna', 'demostración', 'sucedió', 'hermano', 'mayor', 'salió', 'habia', 'mancarrón', 'bravo', 'junto', 'mand', 'yegua', 'pampa', 'linda', 'onde', 'cl', 'jue', 'asomando', 'cerca', 'mand', 'yegua', 'mancarrón', 've', 'asi', 'mancarrón', 'dirigió', 'derechito', 'onde', 'toa', 'velocif', 'tal', 'iue', 'topbn', 'dio', 'mató', 'caballo', 'too', 'pobre', 'joven', 'asi', 'quedó', 'muerto', 'mah', 'ai', 'mafiana', 'salgo', 'ijo', 'hermano', 'medio', 'jue', 'rumbiando', 'rastro', 'jue', 'ai', 'mismo', 'asi', 'misma', 'cosa', 'sucedió', 'mancarrón', 'vio', 'salió', 'encuentro', 'asesinb', 'casi', 'junto', 'jgualmente', 'habia', 'dejao', 'arbolito', 'seña', 'asi', 'ijo', 'menor', 'ahora', 'solo', 'mih', 'hermanos', 'muerto', 'sabia', 'arbolito', 'marchito', 'muerto', 'elloh', 'asi', 'salih', 'hermano', 'menor', 'dia', 'siguendo', 'guellas', 'loh', 'hermano', 'jae', 'buen', 'punto', 'tirar', 'dio', 'balazo', 'toda', 'frente', 'mancarrdn', 'asi', 'voltió', 'puso', 'bala', 'escopeta', 'loh', 'erraron', 'tiro', 'mancarrón', 'tenia', 'tusa', 'oro', 'cola', 'oro', 'encantos', 'presentaban', 'ai', 'animale', 'asi', 'sacó', 'crines', 'puso', 'corrione', 'montura', 'sepultó', 'suh', 'hermano', 'anduvo', 'lejo', 'alejadose', 'alejindose', 'qu', 'iba', 'habia', 'andao', 'devisó', 'gran', 'pifio', 'animale', 'too', 'dioh', 'creao', 'dljo', 'iahora', 'si', 'escape', 'di', 'csta', 'escapo', '”', 'habian', 'lione', 'tigre', 'elefante', 'cuanto', 'animal', 'carnivoro', 'iba', 'pasando', 'piño', 'animale', 'sucedió', 'repente', 'ave', 'volando', 'di', 'atrás', 'puso', 'delante', 'traro', 'habló', 'oiga', 'joven', 'dijo', 'manda', 'rey', 'acaso', 'puede', 'repartirnoh', 'ma', 're', 'hallamos', 'cómo', 'repartirno', 'animal', 'muerto', 'ai', 'entonce', 'volvib', 'llamao', 'hacian', 'loh', 'animaleh', 'asi', 'llegó', 'ai', 'saludó', 'jefe', 'lión', 'ijo', 'buen', 'joven', 'llamc', 'reparta', 're', 'tenemo', 'aqui', 'agradecio', 'conforme', 'too', 'asi', 'joven', 'comenzó', 'repartir', 'esp', 'llevaba', 'defensa', 'espi', 'presa', 'prefirió', 'libn', 'jue', 'pecho', 'corno', 'sabia', 'gustaba', 'asi', 'comenzó', 'repartirle', 'too', 'peacito', 'tantiando', 'seglin', 'tamaño', 'asi les', 'daba', 'hltimo', 'iba', 'queando', 'peazo', 'pecho', 'gordo', 'suelen', 'tener', 'loh', 'animale', 'cabeza', 'fijaba', 'cl', 'quc', 'animal', 'queaba', 'repartirle', 'divisó', 'aguila', 's', 'iba', 'venia', 'flaca', 'miró', 'ijo', 'aguilita', 'aqui', 'parte', 'aguilita', 'miró', 'tiro', 'comenzó', 'recibirle', 'peazo', 'pecho', 'gordo', 'comenzó', 'comer', 'asi', 'queaba', 'cabeza', 'pend', '‘', '‘', 'jae', 'animal', 'comer', 'cabeza', '”', 've', 'pie', 'grimillón', 'hormigas', 'saliendo', 'aqui', 'pa', 'allja', 'bah', '”', 'dijo', 'aqui', '”', 'pegó', 'espaazo', 'cabeza', 'sacó', 'seso', 'repartió', 'hormiguita', 'enterraban', 'seso', 'preguntó', 'estarin', 'conforme', 'conforme', 'dijo', 'mn', 'buen', 'joven', 'muchas', 'gracia', 'despidib', 'cabalgó', 'caballo', 'siguió', 'marchando', 'ven', 'habia', 'andao', 'preguntó', 'lión', 'gente', 'toos', 'conforme', 'l', 'tooh', 'alegres', 'repartia', 'joven', 'entonce', 'iquc', 'mal', 'agradecio', 'nosotro', 'anda', 'atajar', 'ijo', 'corrió', 'zorra', 'vuelva', 'buen', 'joven', 'ahora', 'ijo', 'llenao', 'ahora', 'van', 'comer', 'mps', 'fuerza', 'valor', 'volvió', 'uó', 'ofrece', 'rey', 'ijo', 'lión', 'iay', 'buen', 'joven', 'mal', 'agradecio', 'nosotro', 'desmdntese', 'miedo', 'virtó', 'vamoh', 'dar', 'si', 'encuentra', 'apuro', 'defensa', 'vuelva', 'animal', 'feróh', 'igual', 'quera', 'ofender', 'ordenó', 'lión', 'zorra', 'anda', 'rosalia', 'vuelva', 've', 'tr', 'desmontó', 'dijeron', 'ponga', 'mano', 'escupiendo', 'tooh', 'lambian', 'escupian', 'asi', 'diga', 'idioh', 'lib', 'vuelve', 'lión', 'asi', 'ahora', 'si', 'jue', 'contento', 'despidió', 'ello', 'siguió', 'marcha', 'saber', 'pa', 'ónde', 'iba', 'mps', 'dispari', 'jamih', 'habia', 'pasao', 'parques', 'montafia', 'llegó', 'prao', 'asi', 'puso', 'cerro', 'frente', 'hallaba', 'pa', 'ónde', 'mirar', 'trancao', 'pa', 'onde', 'cl', 'iba', 'saber', 'cómo', 'iba', 'subir', 'cerro', 'asi', 'vio', 'peligro', 'ijo', 'voy', 'desensillar', 'caballo', 'mejor', 'virtges', 'llevaba', 'quero', 'mph', '”', 'ijo', 'entonce', 'soltb', 'caballo', 'ijo', 'uc', 'ave', 'seri', 'sufria', 'pa', 'encubrarme', 'cerro', '”', 'ijo', 'dejó', 'montura', 'arbole', 'arregla', 'pa', 'verla', 'milh', 'caballo', 'queó', 'buen', 'pasto', 'comienldo', 'listo', 'ijo', 'dioh', 'águila', 'mph', 'encumbraora', 'pa', 'subirme', 'cerro', 'comenzó', 'encumbrarse', 'ocupó', 'medio', 'dia', 'subirse', 'arriba', 'cumbre', 'paró', 'cumbre', 'cerro', 'miró', 'hacia', 'lao', 'onde', 'cl', 'iba', 'dirección', 'andando', 'parece', 'divisaba', 'modo', 'palacio', 'asi', 'veida', 'blanquiar', 'descolgb', 'pa', 'lao', 'onde', 'cl', 'iba', 'marchando', 'llegó', 'patio', 'onde', 'veida', 'irbole', 'frutale', 'habian', 'tupio', 'asi', 'jue', 'enramb', 'mirar', 'quc', 'movimientoh', 'habian', 'habia', 'estao', 'buen', 'rato', 'divisa', 'hermana', 'salió', 'pasiarse', 'balcbn', 'especie', 'correorcito', 'tenia', 'casa', 'ibendito', 'dioh', '”', 'ijo', 'aqui', 'esti', 'hermana', ']', 'mire', 'cómo', 'vidat', '”', 'asi', 'dio', 'ver', 'puso', 'tan', 'enramao', 'podia', 'vea', 'hermana', 'ver', 'si', 'podia', 'hablar', 'repente', 'l', 'vio', 'hermana', 'ijo', 'iay', 'aguilita', 'viento', 'echao', 'aqui', 'aqui', 'moscah', 'tó', 'venih', 'presentarte', 'vista', 'mia', 'virtó', 'tendrih', 'si', 'h', 'virtd', 'habla', 'conmigo', 'ijo', 'bijate', 'bajó', 'aguilita', 'volvió', 'hermano', 'vista', 'iay', 'alegria', 'mps', 'grande', 'asi', 'preguntó', 'luego', 'modo', 'ai', 'qucn', 'tenia', 'ijo', 'gigante', 'alma', 'coraje', 'puedan', 'matar', 'venga', 'va', 'venir', 'retumbo', 'grande', 'temblor', 'voh', 'ónde', 'podis', 'esconder', 'venga', 'olfatea', 'gente', 'voy', 'esconder', 'dentro', 'cabeza', 'hecho', 'hormiguita', 'tó', 'vah', 'averiguar', 'cómo', 'vida', 'ijo', 'iya', 'est', 'asi', 'hare', 'óste', 'va', 'maliciando', 'ijo', 'repente', 'rumor', 'viene', 'asi', 'ijo', 'ai', 'viene', 'ijo', 'volvió', 'hormiguita', 'metió', 'pelo', 'aflijas', 'mja', 'aqui', 'voy', 'sosegaita', 'ijo', 'asi', 'llegó', 'gigante', 'icarne', 'humana', 'guele', 'aqui', 'ijo', 'ilo', 'estph', 'hablando', 'ijo', 'moscas', 'llegan', 'aqui', 'iay', 'ingrata', 'ijo', 'vaigah', 'hacer', 'traición', 'imalicioso', 'mejor', 'ijo', 'cuentame', 'vida', 'entonce', 'ijo', 'mira', 'voy', 'decir', 'cómo', 'vida', 'ijo', 'alli', 'aquella', 'ladna', 'ijo', 'ai', 'asiste', 'tigre', 'dentro', 'tigre', 'lib', 'dentro', 'lión', 'zorra', 'dentro', 'zorra', 'paloma', 'dentro', 'paloma', 'guevo', 'eh', 'alma', 'mientras', 'maten', 'tooh', 'muero', 'ijo', 'llegó', 'hora', 'jue', 'gigante', 'salió', 'pelo', 'hablaron', 'preciso', 'cuenteh', 'oi', 'mejor', 'tó', 'bueno', 'ijo', 'si', 'sabeh', 'mira', 'ijo', 'tigre', 'est', 'cebao', 'lah', 'oveja', 'hormiga', 'imire', 'puso', 'quero', 'ayudarte', 'guerriar', 'animos', 'vecino', 'voy', 'ir', 'pastor', 'alquilarme', 'ver', 'si', 'reciben', 'asi', 'despidió', 'hermana', 'ijo', 'mira', 'si', 'pido', 'cosa', 'virtg', 'ver', 'si', 'concede', 'voy', 'guerriar', 'esoh', 'animale', 'voy', 'trasportar', 'tigre', 'lión', 'zorra', 'eh', 'peuco', 'alvirtió', 'asi', 'llegó', 'casa', 'dueño', 'ganao', 'hombre', 'ijo', 'ruenoh', 'diah', 'joven', 'cquc', 'busca', 'ustp', 'ando', 'buscando', 'trabajo', 'den', 'pa', 'ganar', 'vida', 'recibo', 'jcaramba', 'ijo', 'trabajo', 'voy', 'recibir', 'ovejero', 'lah', 'estó', 'matando', 'tigre', 'sale', 'lalina', 'vez', 'van', 'aw', 'zas', 'sale', 'tigre', 'agarra', 'acabando', 'ganao', 'quero', 'ijo', 'pi', 'dentro', 'corazón', 'ijo', 'patrón', 'voy', 'alquilar', 'condición', 'voy', 'pagar', 'almfi', 'plata', 'afio', 'vah', 'dejar', 'punto', 'orilla', 'lafina', 'lah', 'oveja', 'i', 'entonce', 'hizo', 'cargo', 'ganado', 'joven', 'dejemelo', 'mih', 'cuidao', 'patrón', 'si', 'pierdo', 'oveja', 'si', 'jcaramba', 'ijo', 'patrón', 'sos', 'valiente', 'asi', 'hizo', 'cargo', 'mih', 'primero', 'comenzó', 'munguiur', 'lah', 'oveja', 'lagna', 'primero', 'salib', 'tigre', 'ijo', 'seri', 'dioh', 'quere', 'quitar', 'tigre', 'lleve', 'j ioh', 'tigre', 'feróh', 'vencer', 'tigre', 'esah', 'hora', 'patrón', 'ijo', '+qup', 'va', 'hacer', 'pste', 'arriando', 'lah', 'oveja', 'vio', 'aparato', 'quedó', 'asustao', 'vio', 'tigre', 'p', 'jesta', 'si', 'grande', 'ijo', 'asi', 'guerra', 'guerra', 'tigre', 'laóna', 'hallaba', 'dejemos', 'pelea', 'mafiana', 'encontrarno', 'l', 'ijo', 'hacer', 'hoy', 'dejes', 'mañana', 'siguió', 'hirihdolo', 'mató', 'descansó', 'ijo', 'ahota', 'lión', 'va', 'salir', 'bravo', 'saldri', 'arrancando', '”', 'asi', 'listo', 'volverse', 'lión', 'vencerlo', 'lión', 'dentro', 'panza', 'tigre', 'puso', 'abrir', 'panza', 'tigre', 'sale', 'lión', 'arrancando', 'pa', 'irse', 'lagna', 'defenderse', 'meterse', 'salió', 'hecho', 'tigre', 'i', 'vencio', 'ijo', 'hora', 'llegó', 'gigante', 'onde', 'nñia', 'cayó', 'enfermo', 'ia', 'poder', 'moverse', 'casi', 'onde', 'alma', 'muerta', 'entonce', 'alcanzó', 'lión', 'pusieron', 'batalla', 'luego', 'mrih', 'jue', 'venciendo', 'laóna', 'joven', 'diremos', 'ganq', 'mail', 'lión', 'tambicn', 'entonce', 'ijo', 'aqui', 'cosa', 'peligrosa', 'zorra', 'nunca', 'zorra', 'corre', 'perro', 'galgo', 'voy', 'volver', 'galgo', 'pidiéndole', 'dioh', 'galgo', 'correor', 'mundo', 'alcanzar', 'zorra', '”', 'asi', 'abrib', 'libn', 'salic', 'zafa', 'pa', 'laóna', 'iorra', 'icaramba', 'paró', 'aflijio', 'entrri', 'agua', 'jue', 'alcanzar', 'asi', 'trozó', 'iun', 'perro', 'forzóo', 'bravo', 'pa', 'zorra', 'ai', 'batalló', 'muerta', 'zorra', 'aqui', 'peligro', 'zorra', 'va', 'salir', 'paloma', 'volaora', 'va', 'haber', 'óltimo', '”', 'ijo', 'la abro', 'maih', '”', 'sale', 'paloma', 'dioh', 'halcón', 'volaor', 'mundo', 'pa', 'matar', 'ave', 'asi', 'cuerpo', 'alma', 'quejandose', 'all', 'dios', 'verdadero', 'endo', 'nñia', 'itraidora', 'ingrata', 'entonce', 'iba', 'alcanzando', 'aqui', 'allja', 'dirigió', 'aqui', 'allja', 'frente', 'laóna', 'qu', 'iba', 'suelta', 'guevo', 'paloma', 'halcón', 'ino', 'hizo', 'peucol', 'asi', 'guevo', 'pelotió', 'airecito', 'dejb', 'paloma', 'hacia', 'na', 'guevo', 'queria', 'guevo', 'guardao', 'iy', 'patrdn', 'viendo', 'tooh', 'esoh', 'aparato', 'jue', 'entregar', 'ganao', 'aqui', 'ganao', 'faltarle', 'ninguna', 'oveja', 'dijo', 'patrón', 'visto', 'toas', 'magia', 'hah', 'hecho', 'beneficio', 'si', 'ijo', 'cl', 'queria', 'cse', 'eh', 'hermana', 'asi', 'jue', 'pa', 'onde', 'hermana', 'despidieron', 'patrbn', 'dio', 'almó', 'plata', 'iqut', 's', 'iba', 'interesar', 's', 'iba', 'quedar', 'riqueza', 'tenia', 'gigante', 'cajas', 'llenas', 'plata', 'oro', 'patrón', 'entonce', 'llegó', 'ijo', 'idónde', 'gigante', 'enfermo', 'ai', 'cama', 'ijo', 'dirigió', 'par', 'onde', 'gigante', 'vio', 'iay', 'ingrata', 'ijo', 'entregame', 'alma', 'entrtgame', 'llaves', 'toas', 'riquezas', 'tieneh', 'asi', 'mandó', 'hermana', 'entregue', 'toas', 'ilave', 'queria', 'vivir', 'otxo', 'comihdose', 'guevo', 'tenia', 'quedar', 'igual', 'bueno', 'ijo', 'voy', 'entregar', 'alma', 'sacó', 'guevo', 'bolsillo', 'abre', 'boca', 'gigante', 'ijo', 'va', 'echar', 'voy', 'tragar', 'entero', 'jue', 'pegó', 'frente', 'hizo', 'peaicito', 'ai', 'quedó', 'muerto', 'moverse', 'bueno', 'entonce', 'propusieron', 'loh', 'hermano', 'vivir', 'riquezas', 'toa', 'vida', 'tenian', 'sirviente', 'tenian', 'mozo', 'tenian', 'too', 'jue', 'cabecilla', 'casa', 'pasaban', 'buena', 'vida', 'conforme', 'loh', 'hermano', 'sirvientes', 'alegre', 'mozoh', 'igual', 'gran', 'carifio', 'recibian', 'patrone', 'gente', 'gran', 'regocijo', 'mrih', 'l', 'aqui', 'acabó', 'cuento', 'llevó', 'viento'] ['viejito', 'seaora', 'mih', 'tenia', 'hijito', 'toos', 'dia', 'tenia', 'darle', 'pescao', 'rey', 'si', 'daba', 'daba', 'ninguna', 'cosa', 'dia', 'salió', 'podia', 'encontrar', 'pescao', 'puso', 'llorar', 'viejito', 'lloraba', 'hablaron', 'mar', 'uc', 'queris', 'viejito', 'cpor', 'llorrih', 'lloro', 'encuentro', 'pescao', 'entonce', 'dijo', 'doy', 'dijo', 'sirena', 'si', 'acaso', 'da', 'primero', 'encuentre', 'llegue', 'casa', 'dio', 'l', 'hizo', 'carga', 'pescao', 'jue', 'jue', 'pa', 'casa', 'iba', 'vio', 'bultito', 'nifiito', 'tenia', 'darle', 'entonce', 'puso', 'llorar', 'icómo', 'voy', 'dar', 'nifio', 'mrih', 'pescao', 'dio', 'harto', 'pa', 'llevarle', 'rey', 'dio', 'harto', 'pescao', 'niiio', 'creciera', 'dia', 'daba', 'pescao', 'niiiito', 'iba', 'escuela', 'crecia', 'palmo', 'jue', 'grande', 'mris', 'ilora ó', 'c', 'ba', 'viejito', 'nifio', 'empezó', 'decirle', 'lloraba', 'dijo', 'nifio', 'llora', 'llorar', 'vamoh', 'tener', 'llevarte', 'aonde', 'sirena', 'na', 'papa', 'taba', 'padre', 'llorara', 'llegó', 'dia', 'hicieron', 'cocavi', 'pa', 'irse', 'arreglaron', 'caballito', 'plata', 'too', 'jue', 'bien', 'aperao', 'habia', 'andao', 'encontró', 'zalagarda', 'serd', 'dijo', 'animal', 'muerto', 'comiendo', 'lione', 'tigre', 'zorra', 'perro', 'paloma', 'halcón', 'too', 'pajarito', 'habia', 'pasao', 'jueron', 'ilamarlo', 'mandaron', 'l', 'hormiguita', 'vio', 'sentia', 'voh', 'sabia', 'ónde', 'entonce', 'paloma', 'paloma', 'vio', 'joven', 'golvió', 'onde', 'loh', 'animalito', 'llegó', 'dijeron', 'repartiera', 'peliando', 'grande', 'queria', 'mdh', 'repartió', 'jue', 'mandaron', 'paloma', 'veh', 'si', 'acaso', 'comieron', 'ahora', 'van', 'comer', 'golvió', 'dijo', 'mandaron', 'golver', 'darle', 'caa', 'virtk', 'toos', 'dieron', 'lib', 'paloma', 'tigre', 'zorra', 'halcón', 'habia', 'andao', 'puso', 'mirar', 've', 'irbol', 'dioh', 'halcón', 'mds', 'volaor', 'paró', 'arbol', 'rey', 'quedaba', 'pura', 'niiia', 'habia', 'dao', 'dos', 'nifia', 'cuerpo', 'alma', 'pa', 'ldiera', 'lefia', 'dia', 'iba', 'entonce', 'vieron', 'pajarito', 'parao', 'arbol', 'rey', 'enamoró', 'pajarito', 'nifia', 'tambicn', 'dijo', 'jue', 'tl', 'contento', 'tan', 'realto', 'palacio', 'rey', 'entonce', 'dijo', 'mire', 'guachito', 'vamoh', 'llamar', 'jue', 'primero', 'hablar', 'consejero', 'ver', 'cómo', 'podian', 'tomar', 'pajarito', 'entonce', 'consejero', 'dijo', 'tirara', 'balazo', 'quero', 'tomar', 'vivo', 'ty', 'cómo', 'voy', 'tirar', 'balazo', 'despucs', 'jue', 'aonde', 'consejero', 'dijo', 'voltiaran', 'irbol', 'mal', 'consejero', '&', 'ómo', 'voy', 'voltiar', 'drbol']\n"
     ]
    }
   ],
   "source": [
    "print(no_stop_words[0],no_stop_words[1])"
   ]
  },
  {
   "cell_type": "code",
   "execution_count": 125,
   "id": "7b8eb25e",
   "metadata": {},
   "outputs": [
    {
     "name": "stdout",
     "output_type": "stream",
     "text": [
      "2823\n",
      "552\n",
      "1526\n",
      "2707\n",
      "4919\n"
     ]
    }
   ],
   "source": [
    "for text in corpus_list:\n",
    "    print(len(text))"
   ]
  },
  {
   "cell_type": "code",
   "execution_count": 126,
   "id": "42532552",
   "metadata": {},
   "outputs": [
    {
     "name": "stdout",
     "output_type": "stream",
     "text": [
      "1462\n",
      "284\n",
      "897\n",
      "1464\n",
      "2616\n"
     ]
    }
   ],
   "source": [
    "for text in no_stop_words:\n",
    "    print(len(text))"
   ]
  },
  {
   "cell_type": "code",
   "execution_count": null,
   "id": "b31482b9",
   "metadata": {},
   "outputs": [],
   "source": []
  },
  {
   "cell_type": "code",
   "execution_count": null,
   "id": "8beef957",
   "metadata": {},
   "outputs": [],
   "source": []
  }
 ],
 "metadata": {
  "kernelspec": {
   "display_name": "Python 3 (ipykernel)",
   "language": "python",
   "name": "python3"
  },
  "language_info": {
   "codemirror_mode": {
    "name": "ipython",
    "version": 3
   },
   "file_extension": ".py",
   "mimetype": "text/x-python",
   "name": "python",
   "nbconvert_exporter": "python",
   "pygments_lexer": "ipython3",
   "version": "3.9.7"
  }
 },
 "nbformat": 4,
 "nbformat_minor": 5
}
